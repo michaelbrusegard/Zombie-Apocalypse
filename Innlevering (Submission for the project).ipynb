{
 "cells": [
  {
   "cell_type": "markdown",
   "metadata": {},
   "source": [
    "# Oppgave 1- Zombie apokalypse"
   ]
  },
  {
   "cell_type": "markdown",
   "metadata": {},
   "source": [
    "* Gruppe : Michael, Finn, Daniel og Per."
   ]
  },
  {
   "cell_type": "markdown",
   "metadata": {},
   "source": [
    "Vi bestemte oss å gjøre oppgaven visuelt, i stedet for å gjøre den veldig matematisk med likninger og/eller andre modeller. Vi tenkte dette kunne være morsommere, og det ga oss mer motivasjon. I tillegg er det slik at det aldri har vært noen zombie apokalypse i virkeligheten, så det finnes ingen realistiske modeller for hva som hadde skjedd. Likevel brukte vi litt matematikk og fysiske modeller i koden. Et eksempel er at vi fant frem dødsrater og fødselsrater fra nettet basert på svartedauden og USA fra 1950-tallet. Dette ble integrert på en måte som fungerer på samme måte som Eulers metode, hvor veksten (fødselsraten) er basert på antall mennesker. "
   ]
  },
  {
   "cell_type": "markdown",
   "metadata": {},
   "source": [
    "I programmet lærte vi litt om geometri i programmering for å løse noen problemer med geometriske figurer, og dette kan vi ta med videre til andre modeller. Vi lærte også litt om sannsynlighet og uniform distribusjon av verdier. (Flere tilfeldige tall gir større sannsynlighet for mediantilfelle)"
   ]
  },
  {
   "cell_type": "markdown",
   "metadata": {},
   "source": [
    "* 1) Siden vi kan endre variabler i starten av programmet er det lett å se hvordan faktorene spiller en rolle. Likevel er det noen faktorer som ikke kan endres i menyen (f.eks. dødsrate), selv om de kan endres i config.py. Når vi kjører programmet uten at mennesker kan dø ser vi at befolkningen vokser eksponentielt. Dette er fordi fødsel er avhengig av befolkningen. Innvandringen spiller ikke altfor stor rolle, siden innvandringen er nærmest konstant. \n",
    "Dette tilfellet er når vi ikke har med begrensinger i ressurser, men vi kan senere se at det spiller en rolle.\n",
    "Vi bestemte forresten at mennesker er \"voksne\" når de blir født. Dette er en begrensing for nøyaktigheten av modellen, men det var lettere å utføre. I tillegg tenker vi at det er sannsynlig at noen mennesker blir voksne samtidig som andre blir født. Vi har dermed en slags \"spøkelsesandel\" av befolkningen som ikke vises i tall eller på skjerm, men som på en måte er der."
   ]
  },
  {
   "cell_type": "markdown",
   "metadata": {},
   "source": [
    "* 2) Når vi legger til en ressursbegrensing med mat, vil populasjonen etterhvert synke igjen. Dette vil imidlertidig jevne seg ut etterhvert som det blir færre mennesker. Grunnen til at dette skjer er fordi vi har en begrensing på mat i skogene. Det starter med mye mat, men vil etterhvert bli mindre når mer blir samlet. Når skogen går tom vil mennesker begynne å dø, men skogen vil gradvis få mer mat igjen."
   ]
  },
  {
   "cell_type": "markdown",
   "metadata": {},
   "source": [
    "* 3) Vi tenkte at sjansen for naturlig død og sykdom ville være relativt stor under en apokalypse. Derfor vil menneskene naturlig miste en del folk i starten. Vi regulerte dødsraten til å være slik at ikke altfor mange mennesker døde, men nok til at det ikke ble overflod av mennesker via fødsel. Sykdom har en sjanse for å drepe folk utifra tilgangen på medisiner, som kan bli hentet utenfor basen. Det er da sannsynlig at mennesker lettere kan da av sykdom etterhvert."
   ]
  },
  {
   "cell_type": "markdown",
   "metadata": {},
   "source": [
    "* 4) Zombiene er kanskje noe av det vi har fokusert mest på i modellen. Vi lagde en slags AI som følger etter menneskene. Vi la ikke til at zombiene ikke ville prøve å gå etter folk i basen, så noen ganger løper mange mot basen. Mesteparten av disse dør med en gang, men menneskene mister ammo. Vi ser at omfanget av zombier er litt varierende. Dette kan være på grunn av vår bruk av random-modulen. Dermed vil zombiene noen ganger dominere og andre dø ut."
   ]
  },
  {
   "cell_type": "markdown",
   "metadata": {},
   "source": [
    "* 5) Vi la til at mennesker kan bli til zombier som noe av det første i programmet. Uten dette hadde kanskje ikke zombiene gjort det like bra. Vi gjorde imidlertidig litt endringer, slik at menneske \"dør\" uansett, men har en sjanse til å bli til zombie etter å ha dødd. Denne sjansen er ca. 1/3. Siden vi la til faktoren så tidlig, og det føles ut som en grunnleggende del av programmet, har vi ikke sett like mye på omfanget av denne faktoren."
   ]
  },
  {
   "cell_type": "markdown",
   "metadata": {},
   "source": [
    "* 6) Vi ga menneskene en sjanse til å drepe zombien når de selv blir angrepet. Noen ganger overlever de når de gjør dette, mens andre ganger dør de. Vi lagde også noen \"guards\", siden menneskene går langs ruter som kan bli dominert av zombier. Disse vaktene skal da beskytte menneskene, men er veldig avhengig av ammo. Derfor blir ammo en veldig viktig del av modellen, sånn som det sannsynligvis også hadde vært i en zombie apokalypse."
   ]
  },
  {
   "cell_type": "markdown",
   "metadata": {},
   "source": [
    "* 7) Vi gjorde at Alexandria kunne få hjelp fra Kingdom eller Hilltop dersom de har lite mat. Vi valgte å bruke den nordre og vestre inngangen som innganger fra disse byene. Dermed virker det som det er to byer, men generelt virker de to byene mer som en enhet. De kommer med mat og vakter, som kan hjelpe for å beskytte mot zombiene. Vi ser ikke den største forskjellen med hjelp, men det kan hjelpe når det er mange zombier og lite mat. Vi valgte derimot at Alexandria ikke får hjelp dersom det er mindre enn 50 innbyggere igjen, siden de da nesten er dømt til døden uansett."
   ]
  },
  {
   "cell_type": "markdown",
   "metadata": {},
   "source": [
    "* 8) Som en siste ting valgte vi at zombier kan komme tilfeldig en gang hvert halvår. Dette hjelper zombiene litt, men utgjør ikke den største differansen siden det skjer så sjeldent."
   ]
  },
  {
   "cell_type": "code",
   "execution_count": null,
   "metadata": {},
   "outputs": [],
   "source": []
  }
 ],
 "metadata": {
  "kernelspec": {
   "display_name": "Python 3",
   "language": "python",
   "name": "python3"
  },
  "language_info": {
   "codemirror_mode": {
    "name": "ipython",
    "version": 3
   },
   "file_extension": ".py",
   "mimetype": "text/x-python",
   "name": "python",
   "nbconvert_exporter": "python",
   "pygments_lexer": "ipython3",
   "version": "3.7.3"
  }
 },
 "nbformat": 4,
 "nbformat_minor": 4
}
